{
 "nbformat": 4,
 "nbformat_minor": 2,
 "metadata": {
  "language_info": {
   "name": "python",
   "codemirror_mode": {
    "name": "ipython",
    "version": 3
   },
   "version": "3.7.3"
  },
  "orig_nbformat": 2,
  "file_extension": ".py",
  "mimetype": "text/x-python",
  "name": "python",
  "npconvert_exporter": "python",
  "pygments_lexer": "ipython3",
  "version": 3
 },
 "cells": [
  {
   "cell_type": "code",
   "execution_count": 34,
   "metadata": {},
   "outputs": [
    {
     "name": "stdout",
     "output_type": "stream",
     "text": "327\n"
    }
   ],
   "source": [
    "from scipy.io import loadmat\n",
    "import numpy as np\n",
    "import networkx as nx\n",
    "import sys\n",
    "import random\n",
    "from similarity_algorithms import *\n",
    "from generate_dataset import generate_positive\n",
    "from process_data import preprocess\n",
    "%matplotlib inline\n",
    "lon = loadmat('/home/farid/Downloads/data/DD.mat')\n",
    "\n",
    "print(len(lon['DD'][0][0][0].todense()))\n",
    "Z1=lon['DD'][0][0][0].todense()\n",
    "Z2=lon['DD'][0][0][0].todense()\n",
    "Z3=lon['DD'][0][0][0].todense()\n",
    "Z4=lon['DD'][0][0][0].todense()\n",
    "generate_positive(Z4)\n",
    "\n",
    "#i defines current row being iterated in a matrix\n",
    "i = 0\n",
    "while i < len(Z2):\n",
    "    #j defines current column being iterated in a matrix. j is always greater than i because we only care about upper half of the Adj matrix\n",
    "    j = i+1\n",
    "    #j(column count) should run till last element\n",
    "    while j < len(Z2):\n",
    "        random_value = random.randint(0, 1)\n",
    "        Z2[i, j] = random_value\n",
    "        #updating lower half of Adj matrix as soon as upper half element is edited\n",
    "        Z2[j, i] = random_value\n",
    "        #before exiting a row iteration, this makes sure that the diagonal element is set to 0\n",
    "        Z2[i, i] = 0\n",
    "        j+=1\n",
    "    i+=1\n",
    "\n",
    "#i defines current row being iterated in a matrix\n",
    "i = 0\n",
    "while i < len(Z3):\n",
    "    #j defines current column being iterated in a matrix. j is always greater than i because we only care about upper half of the Adj matrix\n",
    "    j = i+1\n",
    "    #j(column count) should run till last element\n",
    "    while j < len(Z3):\n",
    "        random_value = random.randint(0, 1)\n",
    "        Z3[i, j] = random_value\n",
    "        #updating lower half of Adj matrix as soon as upper half element is edited\n",
    "        Z3[j, i] = random_value\n",
    "        #before exiting a row iteration, this makes sure that the diagonal element is set to 0\n",
    "        Z3[i, i] = 0\n",
    "        j+=1\n",
    "    i+=1\n",
    "\n"
   ]
  },
  {
   "cell_type": "code",
   "execution_count": 35,
   "metadata": {},
   "outputs": [
    {
     "data": {
      "text/plain": "matrix([[0., 1., 1., ..., 0., 0., 0.],\n        [1., 0., 1., ..., 0., 0., 0.],\n        [1., 1., 0., ..., 0., 0., 0.],\n        ...,\n        [0., 0., 0., ..., 0., 0., 0.],\n        [0., 0., 0., ..., 0., 0., 0.],\n        [0., 0., 0., ..., 0., 0., 0.]])"
     },
     "execution_count": 35,
     "metadata": {},
     "output_type": "execute_result"
    }
   ],
   "source": [
    "Z1"
   ]
  },
  {
   "cell_type": "code",
   "execution_count": 36,
   "metadata": {},
   "outputs": [
    {
     "data": {
      "text/plain": "matrix([[0., 0., 1., ..., 1., 0., 0.],\n        [0., 0., 0., ..., 0., 1., 1.],\n        [1., 0., 0., ..., 1., 1., 1.],\n        ...,\n        [1., 0., 1., ..., 0., 1., 1.],\n        [0., 1., 1., ..., 1., 0., 0.],\n        [0., 1., 1., ..., 1., 0., 0.]])"
     },
     "execution_count": 36,
     "metadata": {},
     "output_type": "execute_result"
    }
   ],
   "source": [
    "Z2"
   ]
  },
  {
   "cell_type": "code",
   "execution_count": 37,
   "metadata": {},
   "outputs": [
    {
     "data": {
      "text/plain": "matrix([[0., 0., 1., ..., 1., 0., 0.],\n        [0., 0., 1., ..., 1., 1., 1.],\n        [1., 1., 0., ..., 1., 0., 1.],\n        ...,\n        [1., 1., 1., ..., 0., 0., 0.],\n        [0., 1., 0., ..., 0., 0., 1.],\n        [0., 1., 1., ..., 0., 1., 0.]])"
     },
     "execution_count": 37,
     "metadata": {},
     "output_type": "execute_result"
    }
   ],
   "source": [
    "Z3"
   ]
  },
  {
   "cell_type": "code",
   "execution_count": 38,
   "metadata": {},
   "outputs": [
    {
     "data": {
      "text/plain": "matrix([[0., 0., 0., ..., 0., 0., 0.],\n        [0., 0., 0., ..., 0., 0., 0.],\n        [0., 0., 0., ..., 0., 0., 0.],\n        ...,\n        [0., 0., 0., ..., 0., 0., 0.],\n        [0., 0., 0., ..., 0., 0., 0.],\n        [0., 0., 0., ..., 0., 0., 0.]])"
     },
     "execution_count": 38,
     "metadata": {},
     "output_type": "execute_result"
    }
   ],
   "source": [
    "Z4"
   ]
  },
  {
   "cell_type": "code",
   "execution_count": 42,
   "metadata": {},
   "outputs": [
    {
     "data": {
      "text/plain": "0.9849918906982685"
     },
     "execution_count": 42,
     "metadata": {},
     "output_type": "execute_result"
    }
   ],
   "source": [
    "Z1_x = nx.from_numpy_matrix(Z1)\n",
    "Z2_x = nx.from_numpy_matrix(Z2)\n",
    "Z3_x = nx.from_numpy_matrix(Z3)\n",
    "\n",
    "lap1=nx.spectrum.laplacian_spectrum(Z1_x)\n",
    "lap2=nx.spectrum.laplacian_spectrum(Z2_x)\n",
    "lap3=nx.spectrum.laplacian_spectrum(Z3_x)\n",
    "\n",
    "from scipy import spatial\n",
    "1 - manhattan_distance(lap1,lap2)"
   ]
  },
  {
   "cell_type": "code",
   "execution_count": null,
   "metadata": {},
   "outputs": [],
   "source": []
  },
  {
   "cell_type": "code",
   "execution_count": null,
   "metadata": {},
   "outputs": [],
   "source": []
  }
 ]
}